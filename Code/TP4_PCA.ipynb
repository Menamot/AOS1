{
 "cells": [
  {
   "cell_type": "markdown",
   "source": [
    "# Python warm up: PCA by hand\n",
    "1. Generate a dataset with the following instruction\n",
    "`X = np.random.multivariate_normal([1, 3], [[2, 1], [1, 2]], 100)`\n",
    "How many samples are generated? How many features? What is the underlying distribution of samples in $X$?"
   ],
   "metadata": {
    "collapsed": false
   },
   "id": "2561e8b51680ad7a"
  },
  {
   "cell_type": "code",
   "execution_count": 3,
   "id": "initial_id",
   "metadata": {
    "collapsed": true,
    "ExecuteTime": {
     "end_time": "2023-10-01T19:07:58.422530400Z",
     "start_time": "2023-10-01T19:07:58.411136200Z"
    }
   },
   "outputs": [
    {
     "data": {
      "text/plain": "(100, 2)"
     },
     "execution_count": 3,
     "metadata": {},
     "output_type": "execute_result"
    }
   ],
   "source": [
    "import numpy as np\n",
    "\n",
    "\n",
    "X = np.random.multivariate_normal([1, 3], [[2, 1], [1, 2]], 100)\n",
    "X.shape"
   ]
  },
  {
   "cell_type": "markdown",
   "source": [
    "There are 100 samples and 2 features. Samples are drawn according to $\\mathcal{N}(\\begin{pmatrix} 1 \\\\ 3 \\end{pmatrix},\\begin{pmatrix}1&2\\\\2&1\\end{pmatrix})$"
   ],
   "metadata": {
    "collapsed": false
   },
   "id": "e4781bb83c4d1abc"
  },
  {
   "cell_type": "markdown",
   "source": [
    "2. Verify the relation that exists between singular values and eigenvalues using a matrix $X$.\n",
    "To use the functions provided by the `scipy` library, use the following command:\n",
    "`import scipy.linalg as linalg`\n",
    "and look at the functions `linalg.eig`, `linalg.eigh`, `linalg.eigvals`, `linalg.eigvalsh`, `linalg.svd`, `linalg.svdvals`.\n"
   ],
   "metadata": {
    "collapsed": false
   },
   "id": "6d1a61f50456533e"
  },
  {
   "cell_type": "code",
   "execution_count": null,
   "outputs": [],
   "source": [
    "import scipy.linalg as linalg\n",
    "\n",
    "# linalg.eig, linalg.eigh 用于求特征值和特征向量\n",
    "# linalg.eigvals, linalg.eigvalsh 只返回特征值\n",
    "# linalg.svd, linalg.svdvals 第一个\n",
    "\n",
    "X = np.random.normal(size=(6, 2))\n",
    "print(linalg.eigvalsh(X.T @ X))\n",
    "print(linalg.svdvals(X)**2)\n",
    "# 这里就是想验证样本的协方差矩阵的特征向量就是SVD分解后S矩阵对角元素的平方"
   ],
   "metadata": {
    "collapsed": false
   },
   "id": "47c6cb86914297c1"
  },
  {
   "cell_type": "markdown",
   "source": [
    "3. Compute the principal directions and principal components by hand using the unbiased variance–covariance estimator. Verify that they coincide with the ones computed by `scikit-learn`.\n"
   ],
   "metadata": {
    "collapsed": false
   },
   "id": "4465183cdd8dfd94"
  },
  {
   "cell_type": "markdown",
   "source": [],
   "metadata": {
    "collapsed": false
   },
   "id": "aada60f9e1e80a00"
  }
 ],
 "metadata": {
  "kernelspec": {
   "display_name": "Python 3",
   "language": "python",
   "name": "python3"
  },
  "language_info": {
   "codemirror_mode": {
    "name": "ipython",
    "version": 2
   },
   "file_extension": ".py",
   "mimetype": "text/x-python",
   "name": "python",
   "nbconvert_exporter": "python",
   "pygments_lexer": "ipython2",
   "version": "2.7.6"
  }
 },
 "nbformat": 4,
 "nbformat_minor": 5
}
